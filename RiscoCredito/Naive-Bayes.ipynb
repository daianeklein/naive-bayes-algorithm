{
 "cells": [
  {
   "cell_type": "markdown",
   "metadata": {},
   "source": [
    "### Algoritmo para teste (somente 14 registros)"
   ]
  },
  {
   "cell_type": "code",
   "execution_count": 2,
   "metadata": {},
   "outputs": [],
   "source": [
    "## importando bibliotecas\n",
    "\n",
    "import pandas as pd\n",
    "from sklearn.naive_bayes import GaussianNB\n",
    "from sklearn.preprocessing import LabelEncoder"
   ]
  },
  {
   "cell_type": "code",
   "execution_count": 3,
   "metadata": {},
   "outputs": [
    {
     "data": {
      "text/html": [
       "<div>\n",
       "<style scoped>\n",
       "    .dataframe tbody tr th:only-of-type {\n",
       "        vertical-align: middle;\n",
       "    }\n",
       "\n",
       "    .dataframe tbody tr th {\n",
       "        vertical-align: top;\n",
       "    }\n",
       "\n",
       "    .dataframe thead th {\n",
       "        text-align: right;\n",
       "    }\n",
       "</style>\n",
       "<table border=\"1\" class=\"dataframe\">\n",
       "  <thead>\n",
       "    <tr style=\"text-align: right;\">\n",
       "      <th></th>\n",
       "      <th>historia</th>\n",
       "      <th>divida</th>\n",
       "      <th>garantias</th>\n",
       "      <th>renda</th>\n",
       "      <th>c#risco</th>\n",
       "    </tr>\n",
       "  </thead>\n",
       "  <tbody>\n",
       "    <tr>\n",
       "      <th>0</th>\n",
       "      <td>ruim</td>\n",
       "      <td>alta</td>\n",
       "      <td>nenhuma</td>\n",
       "      <td>0_15</td>\n",
       "      <td>alto</td>\n",
       "    </tr>\n",
       "    <tr>\n",
       "      <th>1</th>\n",
       "      <td>desconhecida</td>\n",
       "      <td>alta</td>\n",
       "      <td>nenhuma</td>\n",
       "      <td>15_35</td>\n",
       "      <td>alto</td>\n",
       "    </tr>\n",
       "    <tr>\n",
       "      <th>2</th>\n",
       "      <td>desconhecida</td>\n",
       "      <td>baixa</td>\n",
       "      <td>nenhuma</td>\n",
       "      <td>15_35</td>\n",
       "      <td>moderado</td>\n",
       "    </tr>\n",
       "  </tbody>\n",
       "</table>\n",
       "</div>"
      ],
      "text/plain": [
       "       historia divida garantias  renda   c#risco\n",
       "0          ruim   alta   nenhuma   0_15      alto\n",
       "1  desconhecida   alta   nenhuma  15_35      alto\n",
       "2  desconhecida  baixa   nenhuma  15_35  moderado"
      ]
     },
     "execution_count": 3,
     "metadata": {},
     "output_type": "execute_result"
    }
   ],
   "source": [
    "base = pd.read_csv('risco_credito.csv')\n",
    "base.head(3)"
   ]
  },
  {
   "cell_type": "code",
   "execution_count": 4,
   "metadata": {},
   "outputs": [
    {
     "data": {
      "text/plain": [
       "array(['baixo', 'moderado'], dtype='<U8')"
      ]
     },
     "execution_count": 4,
     "metadata": {},
     "output_type": "execute_result"
    }
   ],
   "source": [
    "## X_train // Y_train\n",
    "\n",
    "previsores = base.iloc[:,0:4].values\n",
    "classe = base.iloc[:,4].values\n",
    "\n",
    "## Transformando as variaveis categoricas\n",
    "## OBS: As variaveis nao serao padronizadas, visto que é apenas um teste inicial\n",
    "labelencoder = LabelEncoder()\n",
    "previsores[:,0] = labelencoder.fit_transform(previsores[:,0])\n",
    "previsores[:,1] = labelencoder.fit_transform(previsores[:,1])\n",
    "previsores[:,2] = labelencoder.fit_transform(previsores[:,2])\n",
    "previsores[:,3] = labelencoder.fit_transform(previsores[:,3])\n",
    "\n",
    "## Treinando \n",
    "classificador = GaussianNB() \n",
    "classificador.fit(previsores, classe) \n",
    "\n",
    "## Testando o resultado\n",
    "# 1) Historia de credito == boa // Divida == Alta // Garantias == Nenhuma // Renda == > 35\n",
    "# 2) Historia de credito == ruim // Divida == Alta // Garantias == Adequadas // renda < 15\n",
    "\n",
    "\n",
    "resultado = classificador.predict([[0,0,1,2] , [3, 0, 0, 0]])\n",
    "resultado"
   ]
  },
  {
   "cell_type": "markdown",
   "metadata": {},
   "source": [
    "## Treinando o algoritmo com a base \"credit_data.csv\""
   ]
  },
  {
   "cell_type": "code",
   "execution_count": 5,
   "metadata": {},
   "outputs": [],
   "source": [
    "## Importando as bibliotecas\n",
    "\n",
    "import pandas as pd\n",
    "import numpy as np\n",
    "from sklearn.impute import SimpleImputer\n",
    "from sklearn.preprocessing import StandardScaler\n",
    "from sklearn.metrics import confusion_matrix, accuracy_score\n",
    "from sklearn.model_selection import train_test_split"
   ]
  },
  {
   "cell_type": "code",
   "execution_count": 6,
   "metadata": {},
   "outputs": [
    {
     "name": "stdout",
     "output_type": "stream",
     "text": [
      "O % de precisão foi de 0.938\n"
     ]
    }
   ],
   "source": [
    "base = pd.read_csv(\"credit_data.csv\")\n",
    "\n",
    "## Tratando as idades que estavam com 0 pela média\n",
    "base.loc[base.age < 0, 'age'] = 40.92 \n",
    "\n",
    "## previsores/classes\n",
    "previsores = base.iloc[:,1:4].values\n",
    "classe = base.iloc[:,4].values\n",
    "\n",
    "## Substitindo os valores nulos pela média\n",
    "imputer = SimpleImputer(missing_values = np.nan, strategy = 'mean') \n",
    "imputer = imputer.fit(previsores[:, 1:4])\n",
    "previsores[:, 1:4] = imputer.transform(previsores[:, 1:4])\n",
    "\n",
    "## Padronizando as variaveis\n",
    "scaler = StandardScaler()\n",
    "previsores = scaler.fit_transform(previsores)\n",
    "\n",
    "## Seperando os valores para treinamento e valores para teste\n",
    "previsores_treinamento, previsores_teste, classe_treinamento, classe_teste = train_test_split(previsores, classe, test_size = 0.25, random_state = 0)\n",
    "\n",
    "## Treinando o modelo\n",
    "classificador = GaussianNB()\n",
    "classificador.fit(previsores_treinamento, classe_treinamento)\n",
    "previsoes = classificador.predict(previsores_teste)\n",
    "\n",
    "## Calculando a acuracia do modelo\n",
    "precisao = accuracy_score(classe_teste, previsoes) ## Calculo da acuracia\n",
    "matrix = confusion_matrix(classe_teste, previsoes) ## Matriz de confusao\n",
    "\n",
    "print(f'O % de precisão foi de {precisao}')"
   ]
  },
  {
   "cell_type": "markdown",
   "metadata": {},
   "source": [
    "## Treinando o algoritmo com a base \"census.csv\""
   ]
  },
  {
   "cell_type": "code",
   "execution_count": 7,
   "metadata": {},
   "outputs": [],
   "source": [
    "## Importando as bibliotecas\n",
    "\n",
    "import pandas as pd\n",
    "import numpy as np\n",
    "from sklearn.preprocessing import LabelEncoder\n",
    "from sklearn.preprocessing import LabelEncoder, OneHotEncoder\n",
    "from sklearn.compose import ColumnTransformer\n",
    "from sklearn.preprocessing import StandardScaler\n",
    "from sklearn.model_selection import train_test_split\n",
    "from sklearn.naive_bayes import GaussianNB\n",
    "from sklearn.metrics import confusion_matrix, accuracy_score"
   ]
  },
  {
   "cell_type": "code",
   "execution_count": 8,
   "metadata": {},
   "outputs": [
    {
     "data": {
      "text/html": [
       "<div>\n",
       "<style scoped>\n",
       "    .dataframe tbody tr th:only-of-type {\n",
       "        vertical-align: middle;\n",
       "    }\n",
       "\n",
       "    .dataframe tbody tr th {\n",
       "        vertical-align: top;\n",
       "    }\n",
       "\n",
       "    .dataframe thead th {\n",
       "        text-align: right;\n",
       "    }\n",
       "</style>\n",
       "<table border=\"1\" class=\"dataframe\">\n",
       "  <thead>\n",
       "    <tr style=\"text-align: right;\">\n",
       "      <th></th>\n",
       "      <th>age</th>\n",
       "      <th>workclass</th>\n",
       "      <th>final-weight</th>\n",
       "      <th>education</th>\n",
       "      <th>education-num</th>\n",
       "      <th>marital-status</th>\n",
       "      <th>occupation</th>\n",
       "      <th>relationship</th>\n",
       "      <th>race</th>\n",
       "      <th>sex</th>\n",
       "      <th>capital-gain</th>\n",
       "      <th>capital-loos</th>\n",
       "      <th>hour-per-week</th>\n",
       "      <th>native-country</th>\n",
       "      <th>income</th>\n",
       "    </tr>\n",
       "  </thead>\n",
       "  <tbody>\n",
       "    <tr>\n",
       "      <th>0</th>\n",
       "      <td>39</td>\n",
       "      <td>State-gov</td>\n",
       "      <td>77516</td>\n",
       "      <td>Bachelors</td>\n",
       "      <td>13</td>\n",
       "      <td>Never-married</td>\n",
       "      <td>Adm-clerical</td>\n",
       "      <td>Not-in-family</td>\n",
       "      <td>White</td>\n",
       "      <td>Male</td>\n",
       "      <td>2174</td>\n",
       "      <td>0</td>\n",
       "      <td>40</td>\n",
       "      <td>United-States</td>\n",
       "      <td>&lt;=50K</td>\n",
       "    </tr>\n",
       "    <tr>\n",
       "      <th>1</th>\n",
       "      <td>50</td>\n",
       "      <td>Self-emp-not-inc</td>\n",
       "      <td>83311</td>\n",
       "      <td>Bachelors</td>\n",
       "      <td>13</td>\n",
       "      <td>Married-civ-spouse</td>\n",
       "      <td>Exec-managerial</td>\n",
       "      <td>Husband</td>\n",
       "      <td>White</td>\n",
       "      <td>Male</td>\n",
       "      <td>0</td>\n",
       "      <td>0</td>\n",
       "      <td>13</td>\n",
       "      <td>United-States</td>\n",
       "      <td>&lt;=50K</td>\n",
       "    </tr>\n",
       "    <tr>\n",
       "      <th>2</th>\n",
       "      <td>38</td>\n",
       "      <td>Private</td>\n",
       "      <td>215646</td>\n",
       "      <td>HS-grad</td>\n",
       "      <td>9</td>\n",
       "      <td>Divorced</td>\n",
       "      <td>Handlers-cleaners</td>\n",
       "      <td>Not-in-family</td>\n",
       "      <td>White</td>\n",
       "      <td>Male</td>\n",
       "      <td>0</td>\n",
       "      <td>0</td>\n",
       "      <td>40</td>\n",
       "      <td>United-States</td>\n",
       "      <td>&lt;=50K</td>\n",
       "    </tr>\n",
       "  </tbody>\n",
       "</table>\n",
       "</div>"
      ],
      "text/plain": [
       "   age          workclass  final-weight   education  education-num  \\\n",
       "0   39          State-gov         77516   Bachelors             13   \n",
       "1   50   Self-emp-not-inc         83311   Bachelors             13   \n",
       "2   38            Private        215646     HS-grad              9   \n",
       "\n",
       "        marital-status          occupation    relationship    race    sex  \\\n",
       "0        Never-married        Adm-clerical   Not-in-family   White   Male   \n",
       "1   Married-civ-spouse     Exec-managerial         Husband   White   Male   \n",
       "2             Divorced   Handlers-cleaners   Not-in-family   White   Male   \n",
       "\n",
       "   capital-gain  capital-loos  hour-per-week  native-country  income  \n",
       "0          2174             0             40   United-States   <=50K  \n",
       "1             0             0             13   United-States   <=50K  \n",
       "2             0             0             40   United-States   <=50K  "
      ]
     },
     "execution_count": 8,
     "metadata": {},
     "output_type": "execute_result"
    }
   ],
   "source": [
    "base = pd.read_csv('census.csv')\n",
    "base.head(3)"
   ]
  },
  {
   "cell_type": "code",
   "execution_count": 9,
   "metadata": {},
   "outputs": [
    {
     "data": {
      "text/plain": [
       "0.4767656090071648"
      ]
     },
     "execution_count": 9,
     "metadata": {},
     "output_type": "execute_result"
    }
   ],
   "source": [
    "## Criando as variaveis preditoras e as classes\n",
    "previsores = base.iloc[:, 0:14].values\n",
    "classe = base.iloc[:, 14].values\n",
    "\n",
    "## Padronizando as variaveis\n",
    "labelencoder_previsores = LabelEncoder()\n",
    "\n",
    "previsores[:,1] = labelencoder_previsores.fit_transform(previsores[:,1])\n",
    "previsores[:,3] = labelencoder_previsores.fit_transform(previsores[:,3])\n",
    "previsores[:,5] = labelencoder_previsores.fit_transform(previsores[:,5])\n",
    "previsores[:,6] = labelencoder_previsores.fit_transform(previsores[:,6])\n",
    "previsores[:,7] = labelencoder_previsores.fit_transform(previsores[:,7])\n",
    "previsores[:,8] = labelencoder_previsores.fit_transform(previsores[:,8])\n",
    "previsores[:,9] = labelencoder_previsores.fit_transform(previsores[:,9])\n",
    "previsores[:,13] = labelencoder_previsores.fit_transform(previsores[:,13])\n",
    "\n",
    "\n",
    "## Transformando as variaveis\n",
    "labelencoder_previsores = LabelEncoder()\n",
    "onehotencorder = ColumnTransformer(transformers=[(\"OneHot\", OneHotEncoder(), [1,3,5,6,7,8,9,13])],\n",
    "                                   remainder='passthrough')\n",
    "previsores = onehotencorder.fit_transform(previsores).toarray()\n",
    "\n",
    "\n",
    "### Padronizando as variaveis (valor medio 0 e desvio padrao 1)\n",
    "scaler = StandardScaler()\n",
    "previsores = scaler.fit_transform(previsores)\n",
    "\n",
    "## Separando os dados de testes e os dados de treino\n",
    "previsores_treinamento, previsores_teste, classe_treinamento, classe_teste = train_test_split(previsores, classe, test_size = 0.15, random_state = 0)\n",
    "\n",
    "## Treinando o modelo\n",
    "classificador = GaussianNB()\n",
    "classificador.fit(previsores_treinamento, classe_treinamento)\n",
    "previsoes = classificador.predict(previsores_teste)\n",
    "\n",
    "## Calculando a acuracia\n",
    "precisao = accuracy_score(classe_teste, previsoes)\n",
    "matriz = confusion_matrix(classe_teste, previsoes)\n",
    "\n",
    "precisao"
   ]
  },
  {
   "cell_type": "markdown",
   "metadata": {},
   "source": [
    "### Alterando a padronização das variaveis (Somente LabelEncoder( ) )"
   ]
  },
  {
   "cell_type": "code",
   "execution_count": 10,
   "metadata": {},
   "outputs": [
    {
     "data": {
      "text/plain": [
       "0.7952917093142272"
      ]
     },
     "execution_count": 10,
     "metadata": {},
     "output_type": "execute_result"
    }
   ],
   "source": [
    "## Criando as variaveis preditoras e as classes\n",
    "previsores = base.iloc[:, 0:14].values\n",
    "classe = base.iloc[:, 14].values\n",
    "\n",
    "## Padronizando as variaveis\n",
    "labelencoder_previsores = LabelEncoder()\n",
    "\n",
    "previsores[:,1] = labelencoder_previsores.fit_transform(previsores[:,1])\n",
    "previsores[:,3] = labelencoder_previsores.fit_transform(previsores[:,3])\n",
    "previsores[:,5] = labelencoder_previsores.fit_transform(previsores[:,5])\n",
    "previsores[:,6] = labelencoder_previsores.fit_transform(previsores[:,6])\n",
    "previsores[:,7] = labelencoder_previsores.fit_transform(previsores[:,7])\n",
    "previsores[:,8] = labelencoder_previsores.fit_transform(previsores[:,8])\n",
    "previsores[:,9] = labelencoder_previsores.fit_transform(previsores[:,9])\n",
    "previsores[:,13] = labelencoder_previsores.fit_transform(previsores[:,13])\n",
    "\n",
    "## Separando os dados de testes e os dados de treino\n",
    "previsores_treinamento, previsores_teste, classe_treinamento, classe_teste = train_test_split(previsores, classe, test_size = 0.15, random_state = 0)\n",
    "\n",
    "## Treinando o modelo\n",
    "classificador = GaussianNB()\n",
    "classificador.fit(previsores_treinamento, classe_treinamento)\n",
    "previsoes = classificador.predict(previsores_teste)\n",
    "\n",
    "## Calculando a acuracia\n",
    "precisao = accuracy_score(classe_teste, previsoes)\n",
    "matriz = confusion_matrix(classe_teste, previsoes)\n",
    "\n",
    "precisao"
   ]
  },
  {
   "cell_type": "markdown",
   "metadata": {},
   "source": [
    "### Alterando a padronização das variaveis (Somente OneHotEncoder ) )"
   ]
  },
  {
   "cell_type": "code",
   "execution_count": 11,
   "metadata": {},
   "outputs": [
    {
     "data": {
      "text/plain": [
       "0.7950870010235415"
      ]
     },
     "execution_count": 11,
     "metadata": {},
     "output_type": "execute_result"
    }
   ],
   "source": [
    "## Criando as variaveis preditoras e as classes\n",
    "previsores = base.iloc[:, 0:14].values\n",
    "classe = base.iloc[:, 14].values\n",
    "\n",
    "## Padronizando as variaveis\n",
    "labelencoder_previsores = LabelEncoder()\n",
    "\n",
    "#previsores[:,1] = labelencoder_previsores.fit_transform(previsores[:,1])\n",
    "#previsores[:,3] = labelencoder_previsores.fit_transform(previsores[:,3])\n",
    "#previsores[:,5] = labelencoder_previsores.fit_transform(previsores[:,5])\n",
    "#previsores[:,6] = labelencoder_previsores.fit_transform(previsores[:,6])\n",
    "#previsores[:,7] = labelencoder_previsores.fit_transform(previsores[:,7])\n",
    "#previsores[:,8] = labelencoder_previsores.fit_transform(previsores[:,8])\n",
    "#previsores[:,9] = labelencoder_previsores.fit_transform(previsores[:,9])\n",
    "#previsores[:,13] = labelencoder_previsores.fit_transform(previsores[:,13])\n",
    "\n",
    "\n",
    "## Transformando as variaveis\n",
    "labelencoder_previsores = LabelEncoder()\n",
    "onehotencorder = ColumnTransformer(transformers=[(\"OneHot\", OneHotEncoder(), [1,3,5,6,7,8,9,13])],\n",
    "                                   remainder='passthrough')\n",
    "previsores = onehotencorder.fit_transform(previsores).toarray()\n",
    "\n",
    "\n",
    "### Padronizando as variaveis (valor medio 0 e desvio padrao 1)\n",
    "#scaler = StandardScaler()\n",
    "#previsores = scaler.fit_transform(previsores)\n",
    "\n",
    "## Separando os dados de testes e os dados de treino\n",
    "previsores_treinamento, previsores_teste, classe_treinamento, classe_teste = train_test_split(previsores, classe, test_size = 0.15, random_state = 0)\n",
    "\n",
    "## Treinando o modelo\n",
    "classificador = GaussianNB()\n",
    "classificador.fit(previsores_treinamento, classe_treinamento)\n",
    "previsoes = classificador.predict(previsores_teste)\n",
    "\n",
    "## Calculando a acuracia\n",
    "precisao = accuracy_score(classe_teste, previsoes)\n",
    "matriz = confusion_matrix(classe_teste, previsoes)\n",
    "\n",
    "precisao"
   ]
  },
  {
   "cell_type": "markdown",
   "metadata": {},
   "source": [
    "### Alterando a padronização das variaveis (LabelEncoder + StandardScaler ) )"
   ]
  },
  {
   "cell_type": "code",
   "execution_count": 12,
   "metadata": {},
   "outputs": [
    {
     "data": {
      "text/plain": [
       "0.8057318321392016"
      ]
     },
     "execution_count": 12,
     "metadata": {},
     "output_type": "execute_result"
    }
   ],
   "source": [
    "## Criando as variaveis preditoras e as classes\n",
    "previsores = base.iloc[:, 0:14].values\n",
    "classe = base.iloc[:, 14].values\n",
    "\n",
    "## Padronizando as variaveis\n",
    "labelencoder_previsores = LabelEncoder()\n",
    "\n",
    "previsores[:,1] = labelencoder_previsores.fit_transform(previsores[:,1])\n",
    "previsores[:,3] = labelencoder_previsores.fit_transform(previsores[:,3])\n",
    "previsores[:,5] = labelencoder_previsores.fit_transform(previsores[:,5])\n",
    "previsores[:,6] = labelencoder_previsores.fit_transform(previsores[:,6])\n",
    "previsores[:,7] = labelencoder_previsores.fit_transform(previsores[:,7])\n",
    "previsores[:,8] = labelencoder_previsores.fit_transform(previsores[:,8])\n",
    "previsores[:,9] = labelencoder_previsores.fit_transform(previsores[:,9])\n",
    "previsores[:,13] = labelencoder_previsores.fit_transform(previsores[:,13])\n",
    "\n",
    "\n",
    "### Padronizando as variaveis (valor medio 0 e desvio padrao 1)\n",
    "scaler = StandardScaler()\n",
    "previsores = scaler.fit_transform(previsores)\n",
    "\n",
    "## Separando os dados de testes e os dados de treino\n",
    "previsores_treinamento, previsores_teste, classe_treinamento, classe_teste = train_test_split(previsores, classe, test_size = 0.15, random_state = 0)\n",
    "\n",
    "## Treinando o modelo\n",
    "classificador = GaussianNB()\n",
    "classificador.fit(previsores_treinamento, classe_treinamento)\n",
    "previsoes = classificador.predict(previsores_teste)\n",
    "\n",
    "## Calculando a acuracia\n",
    "precisao = accuracy_score(classe_teste, previsoes)\n",
    "matriz = confusion_matrix(classe_teste, previsoes)\n",
    "\n",
    "precisao"
   ]
  },
  {
   "cell_type": "code",
   "execution_count": 13,
   "metadata": {},
   "outputs": [
    {
     "data": {
      "text/plain": [
       "(32561, 15)"
      ]
     },
     "execution_count": 13,
     "metadata": {},
     "output_type": "execute_result"
    }
   ],
   "source": [
    "base.shape"
   ]
  },
  {
   "cell_type": "code",
   "execution_count": null,
   "metadata": {},
   "outputs": [],
   "source": []
  },
  {
   "cell_type": "code",
   "execution_count": null,
   "metadata": {},
   "outputs": [],
   "source": []
  },
  {
   "cell_type": "code",
   "execution_count": null,
   "metadata": {},
   "outputs": [],
   "source": []
  }
 ],
 "metadata": {
  "kernelspec": {
   "display_name": "Python 3",
   "language": "python",
   "name": "python3"
  },
  "language_info": {
   "codemirror_mode": {
    "name": "ipython",
    "version": 3
   },
   "file_extension": ".py",
   "mimetype": "text/x-python",
   "name": "python",
   "nbconvert_exporter": "python",
   "pygments_lexer": "ipython3",
   "version": "3.7.6"
  }
 },
 "nbformat": 4,
 "nbformat_minor": 4
}
